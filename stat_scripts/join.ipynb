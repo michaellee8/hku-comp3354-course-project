{
 "cells": [
  {
   "cell_type": "code",
   "execution_count": 1,
   "metadata": {
    "collapsed": true,
    "pycharm": {
     "is_executing": false
    }
   },
   "outputs": [],
   "source": [
    "import pandas as pd\n",
    "import math"
   ]
  },
  {
   "cell_type": "code",
   "execution_count": 2,
   "outputs": [],
   "source": [
    "def log_stat_ratio(x_name,y_name):\n",
    "  return (\n",
    "    lambda row: \n",
    "             math.log(\n",
    "                 (1 if row[x_name] == 0 else row[x_name]) / \n",
    "                      (1 if row[y_name] == 0 else row[y_name])\n",
    "             )\n",
    "          )\n",
    "\n",
    "def log_single_stat(name):\n",
    "  return (\n",
    "    lambda row: \n",
    "             math.log(\n",
    "                 1 if row[name] == 0 else row[name] \n",
    "             )\n",
    "          )"
   ],
   "metadata": {
    "collapsed": false,
    "pycharm": {
     "name": "#%%\n",
     "is_executing": false
    }
   }
  },
  {
   "cell_type": "code",
   "execution_count": 3,
   "outputs": [],
   "source": [
    "users_info = pd.read_csv(\"../stat_data/users_info.csv\")\n",
    "users_question_count = pd.read_csv(\"../stat_data/users_question_count.csv\")\n",
    "users_question_discussion_count = pd.read_csv(\"../stat_data/users_question_discussion_count.csv\")\n",
    "users_answer_count = pd.read_csv(\"../stat_data/users_answer_count.csv\")\n",
    "users_answer_discussion_count = pd.read_csv(\"../stat_data/users_answer_discussion_count.csv\")\n",
    "users_article_count = pd.read_csv(\"../stat_data/users_article_count.csv\")\n",
    "users_article_comment_count = pd.read_csv(\"../stat_data/users_article_comment_count.csv\")\n",
    "users_vote_count = pd.read_csv(\"../stat_data/users_vote_count.csv\")\n",
    "users_up_vote_count = pd.read_csv(\"../stat_data/users_up_vote_count.csv\")\n",
    "users_down_vote_count = pd.read_csv(\"../stat_data/users_down_vote_count.csv\")\n",
    "\n",
    "users_article_agreed_count = pd.read_csv(\"../stat_data/users_article_agreed_count.csv\")\n",
    "users_article_comment_agreed_count = pd.read_csv(\"../stat_data/users_article_comment_agreed_count.csv\")\n",
    "users_question_agreed_count = pd.read_csv(\"../stat_data/users_question_agreed_count.csv\")\n",
    "users_question_answered_count = pd.read_csv(\"../stat_data/users_question_answered_count.csv\")\n",
    "users_answer_agreed_count = pd.read_csv(\"../stat_data/users_answer_agreed_count.csv\")\n",
    "\n",
    "users_article_upvoted_count = pd.read_csv(\"../stat_data/users_article_upvoted_count.csv\")\n",
    "users_article_comment_upvoted_count = pd.read_csv(\"../stat_data/users_article_comment_upvoted_count.csv\")\n",
    "users_question_upvoted_count = pd.read_csv(\"../stat_data/users_question_upvoted_count.csv\")\n",
    "users_answer_upvoted_count = pd.read_csv(\"../stat_data/users_answer_upvoted_count.csv\")\n",
    "\n",
    "users_article_downvoted_count = pd.read_csv(\"../stat_data/users_article_downvoted_count.csv\")\n",
    "users_article_comment_downvoted_count = pd.read_csv(\"../stat_data/users_article_comment_downvoted_count.csv\")\n",
    "users_question_downvoted_count = pd.read_csv(\"../stat_data/users_question_downvoted_count.csv\")\n",
    "users_answer_downvoted_count = pd.read_csv(\"../stat_data/users_answer_downvoted_count.csv\")\n"
   ],
   "metadata": {
    "collapsed": false,
    "pycharm": {
     "name": "#%%\n",
     "is_executing": false
    }
   }
  },
  {
   "cell_type": "code",
   "execution_count": 4,
   "outputs": [],
   "source": [
    "stat = \\\n",
    "  users_info\\\n",
    "    .merge(users_question_count, how=\"left\", on=\"uid\", validate=\"1:1\" )\\\n",
    "    .merge(users_question_discussion_count, how=\"left\", on=\"uid\", validate=\"1:1\" )\\\n",
    "    .merge(users_answer_count, how=\"left\", on=\"uid\", validate=\"1:1\" )\\\n",
    "    .merge(users_answer_discussion_count, how=\"left\", on=\"uid\", validate=\"1:1\" )\\\n",
    "    .merge(users_article_count, how=\"left\", on=\"uid\", validate=\"1:1\" )\\\n",
    "    .merge(users_article_comment_count, how=\"left\", on=\"uid\", validate=\"1:1\" )\\\n",
    "    .merge(users_vote_count, how=\"left\", on=\"uid\", validate=\"1:1\" )\\\n",
    "    .merge(users_up_vote_count, how=\"left\", on=\"uid\", validate=\"1:1\" )\\\n",
    "    .merge(users_down_vote_count, how=\"left\", on=\"uid\", validate=\"1:1\" )\\\n",
    "    .merge(users_article_agreed_count, how=\"left\", on=\"uid\", validate=\"1:1\" )\\\n",
    "    .merge(users_article_comment_agreed_count, how=\"left\", on=\"uid\", validate=\"1:1\" )\\\n",
    "    .merge(users_question_agreed_count, how=\"left\", on=\"uid\", validate=\"1:1\" )\\\n",
    "    .merge(users_question_answered_count, how=\"left\", on=\"uid\", validate=\"1:1\" )\\\n",
    "    .merge(users_answer_agreed_count, how=\"left\", on=\"uid\", validate=\"1:1\" )\\\n",
    "    .merge(users_article_upvoted_count, how=\"left\", on=\"uid\", validate=\"1:1\" )\\\n",
    "    .merge(users_article_comment_upvoted_count, how=\"left\", on=\"uid\", validate=\"1:1\" )\\\n",
    "    .merge(users_question_upvoted_count, how=\"left\", on=\"uid\", validate=\"1:1\" )\\\n",
    "    .merge(users_answer_upvoted_count, how=\"left\", on=\"uid\", validate=\"1:1\" )\\\n",
    "    .merge(users_article_downvoted_count, how=\"left\", on=\"uid\", validate=\"1:1\" )\\\n",
    "    .merge(users_article_comment_downvoted_count, how=\"left\", on=\"uid\", validate=\"1:1\" )\\\n",
    "    .merge(users_question_downvoted_count, how=\"left\", on=\"uid\", validate=\"1:1\" )\\\n",
    "    .merge(users_answer_downvoted_count, how=\"left\", on=\"uid\", validate=\"1:1\" )\\\n",
    "    .fillna(value=0)"
   ],
   "metadata": {
    "collapsed": false,
    "pycharm": {
     "name": "#%%\n",
     "is_executing": false
    }
   }
  },
  {
   "cell_type": "code",
   "execution_count": 5,
   "outputs": [],
   "source": [
    "stat['log_question_ratio'] = stat.apply(\n",
    "    log_stat_ratio('question_discussion_count','question_count'),\n",
    "    axis=1\n",
    ")\n",
    "\n",
    "stat['log_answer_ratio'] = stat.apply(\n",
    "    log_stat_ratio('answer_discussion_count','answer_count'),\n",
    "    axis=1\n",
    ")\n",
    "\n",
    "stat['log_qa_ratio'] = stat.apply(\n",
    "    log_stat_ratio('answer_count','question_count'),\n",
    "    axis=1\n",
    ")\n",
    "\n",
    "stat['log_article_ratio'] = stat.apply(\n",
    "    log_stat_ratio('article_comment_count','article_count'),\n",
    "    axis=1\n",
    ")\n",
    "\n",
    "stat['log_up_vote'] = stat.apply(\n",
    "    log_stat_ratio('up_vote_count','vote_count'),\n",
    "    axis=1\n",
    ")\n",
    "\n",
    "stat['log_down_vote'] = stat.apply(\n",
    "    log_stat_ratio('down_vote_count','vote_count'),\n",
    "    axis=1\n",
    ")\n",
    "\n",
    "stat['log_friend_count'] = stat.apply(\n",
    "    log_single_stat('friend_count'),\n",
    "    axis=1\n",
    ")\n",
    "\n",
    "stat['log_fans_count'] = stat.apply(\n",
    "    log_single_stat('fans_count'),\n",
    "    axis=1\n",
    ")\n",
    "\n",
    "stat['log_vote_count'] = stat.apply(\n",
    "    log_single_stat('vote_count'),\n",
    "    axis=1\n",
    ")\n",
    "\n",
    "stat['log_article_vote_ratio'] = stat.apply(\n",
    "    log_stat_ratio('article_upvoted_count','article_downvoted_count'),\n",
    "    axis=1\n",
    ")\n",
    "\n",
    "stat['log_article_comment_vote_ratio'] = stat.apply(\n",
    "    log_stat_ratio('article_comment_upvoted_count','article_comment_downvoted_count'),\n",
    "    axis=1\n",
    ")\n",
    "\n",
    "stat['log_question_vote_ratio'] = stat.apply(\n",
    "    log_stat_ratio('question_upvoted_count','question_downvoted_count'),\n",
    "    axis=1\n",
    ")\n",
    "\n",
    "stat['log_answer_vote_ratio'] = stat.apply(\n",
    "    log_stat_ratio('answer_upvoted_count','answer_downvoted_count'),\n",
    "    axis=1\n",
    ")"
   ],
   "metadata": {
    "collapsed": false,
    "pycharm": {
     "name": "#%%\n",
     "is_executing": false
    }
   }
  },
  {
   "cell_type": "code",
   "execution_count": 6,
   "outputs": [],
   "source": [
    "stat.to_csv(\"../stat_data/users_data.csv\",index=None,header=True)\n"
   ],
   "metadata": {
    "collapsed": false,
    "pycharm": {
     "name": "#%%\n",
     "is_executing": false
    }
   }
  },
  {
   "cell_type": "code",
   "execution_count": 7,
   "outputs": [
    {
     "name": "stdout",
     "text": [
      "uid\n",
      "user_name\n",
      "fans_count\n",
      "friend_count\n",
      "topic_focus_count\n",
      "agree_count\n",
      "views_count\n",
      "reputation\n",
      "flagged\n",
      "question_count\n",
      "question_discussion_count\n",
      "answer_count\n",
      "answer_discussion_count\n",
      "article_count\n",
      "article_comment_count\n",
      "vote_count\n",
      "up_vote_count\n",
      "down_vote_count\n",
      "article_agreed_count\n",
      "article_comment_agreed_count\n",
      "question_agreed_count\n",
      "question_answered_count\n",
      "answer_agreed_count\n",
      "article_upvoted_count\n",
      "article_comment_upvoted_count\n",
      "question_upvoted_count\n",
      "answer_upvoted_count\n",
      "article_downvoted_count\n",
      "article_comment_downvoted_count\n",
      "question_downvoted_count\n",
      "answer_downvoted_count\n",
      "log_question_ratio\n",
      "log_answer_ratio\n",
      "log_qa_ratio\n",
      "log_article_ratio\n",
      "log_up_vote\n",
      "log_down_vote\n",
      "log_friend_count\n",
      "log_fans_count\n",
      "log_vote_count\n",
      "log_article_vote_ratio\n",
      "log_article_comment_vote_ratio\n",
      "log_question_vote_ratio\n",
      "log_answer_vote_ratio\n"
     ],
     "output_type": "stream"
    }
   ],
   "source": [
    "for col in stat.columns:\n",
    "  print(col)"
   ],
   "metadata": {
    "collapsed": false,
    "pycharm": {
     "name": "#%%\n",
     "is_executing": false
    }
   }
  }
 ],
 "metadata": {
  "kernelspec": {
   "display_name": "Python 3",
   "language": "python",
   "name": "python3"
  },
  "language_info": {
   "codemirror_mode": {
    "name": "ipython",
    "version": 2
   },
   "file_extension": ".py",
   "mimetype": "text/x-python",
   "name": "python",
   "nbconvert_exporter": "python",
   "pygments_lexer": "ipython2",
   "version": "2.7.6"
  },
  "pycharm": {
   "stem_cell": {
    "cell_type": "raw",
    "source": [],
    "metadata": {
     "collapsed": false
    }
   }
  }
 },
 "nbformat": 4,
 "nbformat_minor": 0
}